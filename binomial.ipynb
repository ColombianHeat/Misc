{
 "cells": [
  {
   "cell_type": "markdown",
   "metadata": {},
   "source": [
    "### Binomial Probability Calculator"
   ]
  },
  {
   "cell_type": "markdown",
   "metadata": {},
   "source": [
    "Calculates the probability of a desired number of successes given the number of trials and the probability\n",
    "of success per trial."
   ]
  },
  {
   "cell_type": "code",
   "execution_count": 4,
   "metadata": {},
   "outputs": [
    {
     "name": "stdout",
     "output_type": "stream",
     "text": [
      "100.0% total probability space.\n",
      "63.397% chance of at least 1 success.\n"
     ]
    }
   ],
   "source": [
    "from scipy import stats\n",
    "import numpy as np\n",
    "\n",
    "# inputs\n",
    "n_trials = 100\n",
    "prob = 1 # prob of success per trial, in percent form\n",
    "desired_successes = 1\n",
    "\n",
    "\n",
    "r_values = list(range(n_trials+1))\n",
    "binomial_dist = stats.binom.pmf(r_values, n_trials, prob/100) * 100\n",
    "\n",
    "trials_probs = list(zip(r_values, binomial_dist.round(6))) # Plot this as histogram. Drop zero probs\n",
    "prob_failure = binomial_dist[:desired_successes].sum()\n",
    "prob_success = (100 - prob_failure).round(3)\n",
    "sum_all = np.sum(binomial_dist).round(3)\n",
    "\n",
    "print(f'{sum_all}% total probability space.')\n",
    "\n",
    "if desired_successes == 1:\n",
    "    print(f'{prob_success}% chance of at least {desired_successes} success.')\n",
    "else:\n",
    "    print(f'{prob_success}% chance of at least {desired_successes} successes.')"
   ]
  },
  {
   "cell_type": "markdown",
   "metadata": {},
   "source": [
    "### Binomial Number of Trials Calculator"
   ]
  },
  {
   "cell_type": "markdown",
   "metadata": {},
   "source": [
    "Calculates the number of trials required to achieve a desired percentage of success,\n",
    "given the probability of success per trial."
   ]
  },
  {
   "cell_type": "code",
   "execution_count": null,
   "metadata": {},
   "outputs": [
    {
     "name": "stdout",
     "output_type": "stream",
     "text": [
      "70.34%\n",
      "If 1 success is desired with a 70% probability, then 49 trials are required.\n"
     ]
    }
   ],
   "source": [
    "from scipy import stats\n",
    "import numpy as np\n",
    "\n",
    "# inputs\n",
    "desired_prob = 70 # Overall desired prob of success, in percent form\n",
    "prob = 2.5 # prob of success per trial, in percent form\n",
    "desired_successes = 1\n",
    "\n",
    "i = desired_successes\n",
    "r_values = list(range(i+1))\n",
    "\n",
    "prob_success = 0\n",
    "\n",
    "while prob_success < desired_prob:\n",
    "    binomial_dist = stats.binom.pmf(r_values, i, prob/100) * 100\n",
    "    prob_success = 100 - binomial_dist[:desired_successes].sum()\n",
    "    i +=1\n",
    "\n",
    "print(f'{prob_success.round(2)}%')\n",
    "\n",
    "if desired_successes == 1:\n",
    "    print(f'If {desired_successes} success is desired with a {desired_prob}% probability, then {i} trials are required.')\n",
    "else:\n",
    "    print(f'If {desired_successes} successes are desired with a {desired_prob}% probability, then {i} trials are required.')"
   ]
  },
  {
   "cell_type": "code",
   "execution_count": null,
   "metadata": {},
   "outputs": [],
   "source": []
  }
 ],
 "metadata": {
  "kernelspec": {
   "display_name": "Python 3.10.2 64-bit",
   "language": "python",
   "name": "python3"
  },
  "language_info": {
   "codemirror_mode": {
    "name": "ipython",
    "version": 3
   },
   "file_extension": ".py",
   "mimetype": "text/x-python",
   "name": "python",
   "nbconvert_exporter": "python",
   "pygments_lexer": "ipython3",
   "version": "3.10.2"
  },
  "orig_nbformat": 4,
  "vscode": {
   "interpreter": {
    "hash": "b358da128858fdad755e3996a6b0f5555dd19ab1b1d8e1abc489599f251017e7"
   }
  }
 },
 "nbformat": 4,
 "nbformat_minor": 2
}
