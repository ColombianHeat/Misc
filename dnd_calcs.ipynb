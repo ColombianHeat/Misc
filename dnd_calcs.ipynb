{
 "cells": [
  {
   "cell_type": "markdown",
   "metadata": {},
   "source": [
    "## Inputs"
   ]
  },
  {
   "cell_type": "code",
   "execution_count": 1,
   "metadata": {},
   "outputs": [],
   "source": [
    "to_hit_bonus = 8\n",
    "attack_dice = '2d6'\n",
    "damage_bonus = 5\n",
    "\n",
    "t = True\n",
    "f = False\n",
    "\n",
    "with_advantage = f\n",
    "with_disadvantage = f\n",
    "\n",
    "num_trials = 5_000_000"
   ]
  },
  {
   "cell_type": "markdown",
   "metadata": {},
   "source": [
    "## Output"
   ]
  },
  {
   "cell_type": "code",
   "execution_count": 2,
   "metadata": {},
   "outputs": [],
   "source": [
    "import random\n",
    "import re\n",
    "import numpy as np"
   ]
  },
  {
   "cell_type": "code",
   "execution_count": 3,
   "metadata": {},
   "outputs": [],
   "source": [
    "# regex to extract number of damage dice and value of damage dice into variables\n",
    "number_atk_dice = int(re.search(r'^(\\d)d(\\d)$', attack_dice).group(1))\n",
    "atk_dice_face = int(re.search(r'^(\\d)d(\\d)$', attack_dice).group(2))"
   ]
  },
  {
   "cell_type": "code",
   "execution_count": 4,
   "metadata": {},
   "outputs": [],
   "source": [
    "def normal_attack(n, enemy_ac, adv=False, dis=False):\n",
    "    if (adv == False and dis == False) or (adv == True and dis == True):\n",
    "        to_hit = np.random.randint(1, high=21, size=n) + to_hit_bonus\n",
    "        crit_mask = to_hit == 20 + to_hit_bonus\n",
    "        enemy_ac_array = np.zeros(n) + enemy_ac\n",
    "        is_hit = to_hit >= enemy_ac_array\n",
    "        is_hit = np.any([is_hit, crit_mask], axis=0)\n",
    "        damage_die_num = 0\n",
    "        tot_damage_roll = np.zeros(n)\n",
    "        tot_crit_roll = np.zeros(n)\n",
    "        while damage_die_num < number_atk_dice: # Regular damage\n",
    "            damage_roll = np.random.randint(1, high=atk_dice_face + 1, size=n)\n",
    "            tot_damage_roll += damage_roll\n",
    "            damage_die_num += 1\n",
    "        damage_die_num = 0\n",
    "        while damage_die_num < number_atk_dice: # Crit damage\n",
    "            crit_roll = np.random.randint(1, high=atk_dice_face + 1, size=n)\n",
    "            tot_crit_roll += crit_roll\n",
    "            damage_die_num += 1\n",
    "        tot_damage_roll = tot_damage_roll + damage_bonus\n",
    "        tot_crit_roll = tot_crit_roll * crit_mask\n",
    "        final_damage = tot_damage_roll + tot_crit_roll\n",
    "        average_damage = np.sum(final_damage * is_hit) / n\n",
    "\n",
    "    if adv == True and dis == False:\n",
    "        roll1 = np.random.randint(1, high=21, size=n)\n",
    "        roll2 = np.random.randint(1, high=21, size=n)\n",
    "        first_roll_high = roll1 > roll2\n",
    "        second_roll_high = 1 - first_roll_high\n",
    "        final_roll = (roll1 * first_roll_high) + (roll2 * second_roll_high)\n",
    "        to_hit = final_roll + to_hit_bonus\n",
    "        crit_mask = to_hit == 20 + to_hit_bonus\n",
    "        enemy_ac_array = np.zeros(n) + enemy_ac\n",
    "        is_hit = to_hit >= enemy_ac_array\n",
    "        is_hit = np.any([is_hit, crit_mask], axis=0)\n",
    "        damage_die_num = 0\n",
    "        tot_damage_roll = np.zeros(n)\n",
    "        tot_crit_roll = np.zeros(n)\n",
    "        while damage_die_num < number_atk_dice:\n",
    "            damage_roll = np.random.randint(1, high=atk_dice_face + 1, size=n)\n",
    "            tot_damage_roll += damage_roll\n",
    "            damage_die_num += 1\n",
    "        damage_die_num = 0\n",
    "        while damage_die_num < number_atk_dice: # Crit damage\n",
    "            crit_roll = np.random.randint(1, high=atk_dice_face + 1, size=n)\n",
    "            tot_crit_roll += crit_roll\n",
    "            damage_die_num += 1\n",
    "        tot_damage_roll = tot_damage_roll + damage_bonus\n",
    "        tot_crit_roll = tot_crit_roll * crit_mask\n",
    "        final_damage = tot_damage_roll + tot_crit_roll\n",
    "        average_damage = np.sum(final_damage * is_hit) / n\n",
    "\n",
    "    if adv == False and dis == True:\n",
    "        roll1 = np.random.randint(1, high=21, size=n)\n",
    "        roll2 = np.random.randint(1, high=21, size=n)\n",
    "        first_roll_high = roll1 > roll2\n",
    "        second_roll_high = 1 - first_roll_high\n",
    "        final_roll = (roll1 * (1 - first_roll_high)) + (roll2 * (1 - second_roll_high))\n",
    "        to_hit = final_roll + to_hit_bonus\n",
    "        crit_mask = to_hit == 20 + to_hit_bonus\n",
    "        enemy_ac_array = np.zeros(n) + enemy_ac\n",
    "        is_hit = to_hit >= enemy_ac_array\n",
    "        is_hit = np.any([is_hit, crit_mask], axis=0)\n",
    "        damage_die_num = 0\n",
    "        tot_damage_roll = np.zeros(n)\n",
    "        tot_crit_roll = np.zeros(n)\n",
    "        while damage_die_num < number_atk_dice:\n",
    "            damage_roll = np.random.randint(1, high=atk_dice_face + 1, size=n)\n",
    "            tot_damage_roll += damage_roll\n",
    "            damage_die_num += 1\n",
    "        damage_die_num = 0\n",
    "        while damage_die_num < number_atk_dice: # Crit damage\n",
    "            crit_roll = np.random.randint(1, high=atk_dice_face + 1, size=n)\n",
    "            tot_crit_roll += crit_roll\n",
    "            damage_die_num += 1\n",
    "        tot_damage_roll = tot_damage_roll + damage_bonus\n",
    "        tot_crit_roll = tot_crit_roll * crit_mask\n",
    "        final_damage = tot_damage_roll + tot_crit_roll\n",
    "        average_damage = np.sum(final_damage * is_hit) / n\n",
    "\n",
    "    return average_damage\n",
    "\n",
    "def sharpshooter_attack(n, enemy_ac, adv=False, dis=False):\n",
    "    if (adv == False and dis == False) or (adv == True and dis == True):\n",
    "        to_hit = np.random.randint(1, high=21, size=n) + to_hit_bonus - 5\n",
    "        crit_mask = to_hit == 20 + to_hit_bonus - 5\n",
    "        enemy_ac_array = np.zeros(n) + enemy_ac\n",
    "        is_hit = to_hit >= enemy_ac_array\n",
    "        is_hit = np.any([is_hit, crit_mask], axis=0)\n",
    "        damage_die_num = 0\n",
    "        tot_damage_roll = np.zeros(n)\n",
    "        tot_crit_roll = np.zeros(n)\n",
    "        while damage_die_num < number_atk_dice: # Regular damage\n",
    "            damage_roll = np.random.randint(1, high=atk_dice_face + 1, size=n)\n",
    "            tot_damage_roll += damage_roll\n",
    "            damage_die_num += 1\n",
    "        damage_die_num = 0\n",
    "        while damage_die_num < number_atk_dice: # Crit damage\n",
    "            crit_roll = np.random.randint(1, high=atk_dice_face + 1, size=n)\n",
    "            tot_crit_roll += crit_roll\n",
    "            damage_die_num += 1\n",
    "        tot_damage_roll = tot_damage_roll + damage_bonus\n",
    "        tot_crit_roll = tot_crit_roll * crit_mask\n",
    "        final_damage = tot_damage_roll + tot_crit_roll + 10\n",
    "        average_damage = np.sum(final_damage * is_hit) / n\n",
    "\n",
    "    if adv == True and dis == False:\n",
    "        roll1 = np.random.randint(1, high=21, size=n)\n",
    "        roll2 = np.random.randint(1, high=21, size=n)\n",
    "        first_roll_high = roll1 > roll2\n",
    "        second_roll_high = 1 - first_roll_high\n",
    "        final_roll = (roll1 * first_roll_high) + (roll2 * second_roll_high)\n",
    "        to_hit = final_roll + to_hit_bonus - 5\n",
    "        crit_mask = to_hit == 20 + to_hit_bonus - 5\n",
    "        enemy_ac_array = np.zeros(n) + enemy_ac\n",
    "        is_hit = to_hit >= enemy_ac_array\n",
    "        is_hit = np.any([is_hit, crit_mask], axis=0)\n",
    "        damage_die_num = 0\n",
    "        tot_damage_roll = np.zeros(n)\n",
    "        tot_crit_roll = np.zeros(n)\n",
    "        while damage_die_num < number_atk_dice:\n",
    "            damage_roll = np.random.randint(1, high=atk_dice_face + 1, size=n)\n",
    "            tot_damage_roll += damage_roll\n",
    "            damage_die_num += 1\n",
    "        damage_die_num = 0\n",
    "        while damage_die_num < number_atk_dice: # Crit damage\n",
    "            crit_roll = np.random.randint(1, high=atk_dice_face + 1, size=n)\n",
    "            tot_crit_roll += crit_roll\n",
    "            damage_die_num += 1\n",
    "        tot_damage_roll = tot_damage_roll + damage_bonus + 10\n",
    "        tot_crit_roll = tot_crit_roll * crit_mask\n",
    "        final_damage = tot_damage_roll + tot_crit_roll\n",
    "        average_damage = np.sum(final_damage * is_hit) / n\n",
    "\n",
    "    if adv == False and dis == True:\n",
    "        roll1 = np.random.randint(1, high=21, size=n)\n",
    "        roll2 = np.random.randint(1, high=21, size=n)\n",
    "        first_roll_high = roll1 > roll2\n",
    "        second_roll_high = 1 - first_roll_high\n",
    "        final_roll = (roll1 * (1 - first_roll_high)) + (roll2 * (1 - second_roll_high))\n",
    "        to_hit = final_roll + to_hit_bonus - 5\n",
    "        crit_mask = to_hit == 20 + to_hit_bonus - 5\n",
    "        enemy_ac_array = np.zeros(n) + enemy_ac\n",
    "        is_hit = to_hit >= enemy_ac_array\n",
    "        is_hit = np.any([is_hit, crit_mask], axis=0)\n",
    "        damage_die_num = 0\n",
    "        tot_damage_roll = np.zeros(n)\n",
    "        tot_crit_roll = np.zeros(n)\n",
    "        while damage_die_num < number_atk_dice:\n",
    "            damage_roll = np.random.randint(1, high=atk_dice_face + 1, size=n)\n",
    "            tot_damage_roll += damage_roll\n",
    "            damage_die_num += 1\n",
    "        damage_die_num = 0\n",
    "        while damage_die_num < number_atk_dice: # Crit damage\n",
    "            crit_roll = np.random.randint(1, high=atk_dice_face + 1, size=n)\n",
    "            tot_crit_roll += crit_roll\n",
    "            damage_die_num += 1\n",
    "        tot_damage_roll = tot_damage_roll + damage_bonus + 10\n",
    "        tot_crit_roll = tot_crit_roll * crit_mask\n",
    "        final_damage = tot_damage_roll + tot_crit_roll\n",
    "        average_damage = np.sum(final_damage * is_hit) / n\n",
    "\n",
    "    return average_damage"
   ]
  },
  {
   "cell_type": "markdown",
   "metadata": {},
   "source": [
    "### Average Damage of a Normal Sauce Attack"
   ]
  },
  {
   "cell_type": "code",
   "execution_count": 5,
   "metadata": {},
   "outputs": [
    {
     "data": {
      "text/plain": [
       "[(8, 12.3477654),\n",
       " (9, 12.3493582),\n",
       " (10, 11.7488912),\n",
       " (11, 11.1490302),\n",
       " (12, 10.549915),\n",
       " (13, 9.9509732),\n",
       " (14, 9.3470874),\n",
       " (15, 8.746777),\n",
       " (16, 8.1503588),\n",
       " (17, 7.5510758),\n",
       " (18, 6.9512314),\n",
       " (19, 6.3456478),\n",
       " (20, 5.750602),\n",
       " (21, 5.1481024),\n",
       " (22, 4.5543474),\n",
       " (23, 3.9517484),\n",
       " (24, 3.3497066),\n",
       " (25, 2.7494336)]"
      ]
     },
     "execution_count": 5,
     "metadata": {},
     "output_type": "execute_result"
    }
   ],
   "source": [
    "ac_list = list(range(8,26))\n",
    "norm_avg_dam_list = []\n",
    "for ac in ac_list:\n",
    "    avg_dam = normal_attack(num_trials, ac, with_advantage, with_disadvantage)\n",
    "    norm_avg_dam_list.append(avg_dam)\n",
    "norm_paired_list = list(zip(ac_list, norm_avg_dam_list))\n",
    "norm_dam_array = np.array(norm_avg_dam_list)\n",
    "norm_paired_list"
   ]
  },
  {
   "cell_type": "markdown",
   "metadata": {},
   "source": [
    "### Average Damage of a Sharpshooter Sauce Attack"
   ]
  },
  {
   "cell_type": "code",
   "execution_count": 6,
   "metadata": {},
   "outputs": [
    {
     "data": {
      "text/plain": [
       "[(8, 17.952231),\n",
       " (9, 16.8523814),\n",
       " (10, 15.753),\n",
       " (11, 14.6511974),\n",
       " (12, 13.5447416),\n",
       " (13, 12.4569476),\n",
       " (14, 11.3516298),\n",
       " (15, 10.256172),\n",
       " (16, 9.1537138),\n",
       " (17, 8.0535104),\n",
       " (18, 6.9426068),\n",
       " (19, 5.8450614),\n",
       " (20, 4.7541784),\n",
       " (21, 3.6441614),\n",
       " (22, 2.5549826),\n",
       " (23, 1.4538054),\n",
       " (24, 1.448973),\n",
       " (25, 1.4495228)]"
      ]
     },
     "execution_count": 6,
     "metadata": {},
     "output_type": "execute_result"
    }
   ],
   "source": [
    "shrp_avg_dam_list = []\n",
    "for ac in ac_list:\n",
    "    avg_dam = sharpshooter_attack(num_trials, ac, with_advantage, with_disadvantage)\n",
    "    shrp_avg_dam_list.append(avg_dam)\n",
    "shrp_paired_list = list(zip(ac_list, shrp_avg_dam_list))\n",
    "shrp_dam_array = np.array(shrp_avg_dam_list)\n",
    "shrp_paired_list"
   ]
  },
  {
   "cell_type": "markdown",
   "metadata": {},
   "source": [
    "### \"Should I use a sharpshooter attack?\" This cell tells you the answer!"
   ]
  },
  {
   "cell_type": "code",
   "execution_count": 7,
   "metadata": {},
   "outputs": [
    {
     "data": {
      "text/plain": [
       "array([[ 8,  1],\n",
       "       [ 9,  1],\n",
       "       [10,  1],\n",
       "       [11,  1],\n",
       "       [12,  1],\n",
       "       [13,  1],\n",
       "       [14,  1],\n",
       "       [15,  1],\n",
       "       [16,  1],\n",
       "       [17,  1],\n",
       "       [18,  0],\n",
       "       [19,  0],\n",
       "       [20,  0],\n",
       "       [21,  0],\n",
       "       [22,  0],\n",
       "       [23,  0],\n",
       "       [24,  0],\n",
       "       [25,  0]])"
      ]
     },
     "execution_count": 7,
     "metadata": {},
     "output_type": "execute_result"
    }
   ],
   "source": [
    "use_sharpshooter_arr = shrp_dam_array >= norm_dam_array\n",
    "ac_arr = np.array(ac_list)\n",
    "paired_arr = np.stack((ac_arr, use_sharpshooter_arr), axis=1)\n",
    "paired_arr\n"
   ]
  },
  {
   "cell_type": "code",
   "execution_count": 8,
   "metadata": {},
   "outputs": [
    {
     "data": {
      "text/plain": [
       "<matplotlib.legend.Legend at 0x25390c63520>"
      ]
     },
     "execution_count": 8,
     "metadata": {},
     "output_type": "execute_result"
    },
    {
     "data": {
      "image/png": "[encoded data removed]",
      "text/plain": [
       "<Figure size 432x288 with 1 Axes>"
      ]
     },
     "metadata": {
      "needs_background": "light"
     },
     "output_type": "display_data"
    }
   ],
   "source": [
    "import matplotlib.pyplot as plt\n",
    "\n",
    "plt.plot(ac_list, norm_avg_dam_list, ac_list, shrp_avg_dam_list)\n",
    "plt.xlabel('Enemy AC')\n",
    "plt.ylabel('Avg Damage')\n",
    "plt.title('Average Damage of Normal and Sharpshooter Attacks')\n",
    "plt.xticks(ac_list)\n",
    "plt.grid()\n",
    "plt.legend(['Normal Attack', 'Sharpshooter Attack'])\n",
    "# All set!"
   ]
  }
 ],
 "metadata": {
  "kernelspec": {
   "display_name": "Python 3.10.2 64-bit",
   "language": "python",
   "name": "python3"
  },
  "language_info": {
   "codemirror_mode": {
    "name": "ipython",
    "version": 3
   },
   "file_extension": ".py",
   "mimetype": "text/x-python",
   "name": "python",
   "nbconvert_exporter": "python",
   "pygments_lexer": "ipython3",
   "version": "3.10.2"
  },
  "orig_nbformat": 4,
  "vscode": {
   "interpreter": {
    "hash": "b358da128858fdad755e3996a6b0f5555dd19ab1b1d8e1abc489599f251017e7"
   }
  }
 },
 "nbformat": 4,
 "nbformat_minor": 2
}
