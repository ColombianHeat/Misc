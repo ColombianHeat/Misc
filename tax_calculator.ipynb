{
 "cells": [
  {
   "cell_type": "markdown",
   "metadata": {},
   "source": [
    "### Input"
   ]
  },
  {
   "cell_type": "code",
   "execution_count": 73,
   "metadata": {},
   "outputs": [],
   "source": [
    "income = 100_000"
   ]
  },
  {
   "cell_type": "markdown",
   "metadata": {},
   "source": [
    "### Setting Up the Numbers"
   ]
  },
  {
   "cell_type": "code",
   "execution_count": 74,
   "metadata": {},
   "outputs": [],
   "source": [
    "federal = [(0, 0.15), (49_020, 0.205), (98_040, 0.26), (151_978, 0.29), (216_511, 0.33)]\n",
    "provincial = [(0, 0.0505), (45_142, 0.0915), (90_287, 0.1116), (150_000, 0.1216), (220_000, 0.1316)]\n",
    "\n",
    "federal = federal[::-1]\n",
    "provincial = provincial[::-1]\n",
    "\n",
    "cpp_rate = 0.057\n",
    "cpp_max = 64900\n",
    "\n",
    "ei_rate = 0.0158\n",
    "ei_max = 60300"
   ]
  },
  {
   "cell_type": "code",
   "execution_count": 75,
   "metadata": {},
   "outputs": [
    {
     "name": "stdout",
     "output_type": "stream",
     "text": [
      "Next threshold is 151978\n",
      "Next threshold is 150000\n"
     ]
    }
   ],
   "source": [
    "def find_threshold(ls, income):\n",
    "    for index, pair in list(enumerate(ls)):\n",
    "        if income >= pair[0]:\n",
    "            next_thres = ls[index - 1][0]\n",
    "            print(f'Next threshold is {next_thres}')\n",
    "            return (index), (next_thres)\n",
    "\n",
    "fed_idx, next_fed_thres = find_threshold(federal, income)\n",
    "prv_idx, next_prv_thres = find_threshold(provincial, income)"
   ]
  },
  {
   "cell_type": "markdown",
   "metadata": {},
   "source": [
    "### Federal Tax Calculation"
   ]
  },
  {
   "cell_type": "code",
   "execution_count": 76,
   "metadata": {},
   "outputs": [],
   "source": [
    "fed_running_tax = 0\n",
    "running_income = income\n",
    "\n",
    "fed = federal[(fed_idx):]"
   ]
  },
  {
   "cell_type": "code",
   "execution_count": 77,
   "metadata": {},
   "outputs": [
    {
     "name": "stdout",
     "output_type": "stream",
     "text": [
      "17911.699999999997\n"
     ]
    }
   ],
   "source": [
    "for index in list(range(len(fed))):\n",
    "    top = running_income - fed[index][0]\n",
    "    tax = top * fed[index][1]\n",
    "    fed_running_tax += tax\n",
    "    running_income = fed[index][0]\n",
    "print(fed_running_tax)"
   ]
  },
  {
   "cell_type": "markdown",
   "metadata": {},
   "source": [
    "### Provincial Tax Calculation"
   ]
  },
  {
   "cell_type": "code",
   "execution_count": 78,
   "metadata": {},
   "outputs": [],
   "source": [
    "prv_running_tax = 0\n",
    "running_income = income\n",
    "\n",
    "prv = provincial[(prv_idx):]"
   ]
  },
  {
   "cell_type": "code",
   "execution_count": 79,
   "metadata": {},
   "outputs": [
    {
     "name": "stdout",
     "output_type": "stream",
     "text": [
      "7494.4093\n"
     ]
    }
   ],
   "source": [
    "for index in list(range(len(prv))):\n",
    "    top = running_income - prv[index][0]\n",
    "    tax = top * prv[index][1]\n",
    "    prv_running_tax += tax\n",
    "    running_income = prv[index][0]\n",
    "print(prv_running_tax)"
   ]
  },
  {
   "cell_type": "markdown",
   "metadata": {},
   "source": [
    "### CPP and EI Calculation"
   ]
  },
  {
   "cell_type": "code",
   "execution_count": 80,
   "metadata": {},
   "outputs": [
    {
     "data": {
      "text/plain": [
       "(3699.3, 952.7400000000001)"
      ]
     },
     "execution_count": 80,
     "metadata": {},
     "output_type": "execute_result"
    }
   ],
   "source": [
    "# CPP\n",
    "if income >= cpp_max:\n",
    "    cpp_tax = cpp_max * cpp_rate\n",
    "else:\n",
    "    cpp_tax = income * cpp_rate\n",
    "\n",
    "# EI\n",
    "if income >= ei_max:\n",
    "    ei_tax = ei_max * ei_rate\n",
    "else:\n",
    "    ei_tax = income * ei_rate\n",
    "\n",
    "cpp_tax, ei_tax"
   ]
  },
  {
   "cell_type": "markdown",
   "metadata": {},
   "source": [
    "### Adding it Up"
   ]
  },
  {
   "cell_type": "code",
   "execution_count": 81,
   "metadata": {},
   "outputs": [
    {
     "name": "stdout",
     "output_type": "stream",
     "text": [
      "Gross income: $100,000\n",
      "Net income: $69,941.85\n",
      "Total taxes paid: $30,058.15\n",
      "\n",
      "Net monthly income: $5,828.49\n"
     ]
    }
   ],
   "source": [
    "total_tax = fed_running_tax + prv_running_tax + cpp_tax + ei_tax\n",
    "\n",
    "print(f'Gross income: ${income:,}')\n",
    "print(f'Net income: ${round((income - total_tax), 2):,}')\n",
    "print(f'Total taxes paid: ${round(total_tax, 2):,}')\n",
    "print()\n",
    "print(f'Net monthly income: ${round(((income - total_tax) / 12), 2):,}')"
   ]
  }
 ],
 "metadata": {
  "kernelspec": {
   "display_name": "Python 3.10.5 64-bit",
   "language": "python",
   "name": "python3"
  },
  "language_info": {
   "codemirror_mode": {
    "name": "ipython",
    "version": 3
   },
   "file_extension": ".py",
   "mimetype": "text/x-python",
   "name": "python",
   "nbconvert_exporter": "python",
   "pygments_lexer": "ipython3",
   "version": "3.10.5"
  },
  "orig_nbformat": 4,
  "vscode": {
   "interpreter": {
    "hash": "84265d36626e4e689d504f7b64ca580528acb1bd496c2b4a7454f9b067729a7f"
   }
  }
 },
 "nbformat": 4,
 "nbformat_minor": 2
}
