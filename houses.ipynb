{
 "cells": [
  {
   "cell_type": "code",
   "execution_count": null,
   "metadata": {},
   "outputs": [],
   "source": [
    "import re\n",
    "import numpy as np\n",
    "import pandas as pd\n",
    "from selenium import webdriver\n",
    "from selenium.webdriver.common.by import By\n",
    "from selenium.webdriver.firefox.options import Options as FirefoxOptions"
   ]
  },
  {
   "cell_type": "code",
   "execution_count": null,
   "metadata": {},
   "outputs": [],
   "source": [
    "# Using Selenium to launch a headless Firefox session and retrieve the page source\n",
    "options = FirefoxOptions()\n",
    "options.add_argument(\"--headless\")\n",
    "driver = webdriver.Firefox(options=options)\n",
    "driver.get(\"https://www.redfin.ca/on/guelph/filter/max-price=800k,mr=33:2996+33:3316+33:3472,walk-score=70\")\n",
    "\n",
    "text_only = driver.find_element(By.TAG_NAME, \"body\").text\n",
    "\n",
    "src1 = driver.page_source"
   ]
  },
  {
   "cell_type": "code",
   "execution_count": null,
   "metadata": {},
   "outputs": [],
   "source": [
    "# Write the page source to a local .txt file\n",
    "from pathlib import Path\n",
    "\n",
    "path = Path('data\\houses.txt')\n",
    "\n",
    "with path.open(mode='w', encoding='utf-8') as file:\n",
    "    file.write(src1)"
   ]
  },
  {
   "cell_type": "code",
   "execution_count": null,
   "metadata": {},
   "outputs": [],
   "source": [
    "# Split the page text into a list, one element per house which matches the filters\n",
    "# First item for each house is \"mlsId\". Split using this term\n",
    "if type(src1) == type('str'):\n",
    "    src1 = src1.split('mlsId')\n",
    "    tail_end = src1[-1].split('isViewedListing')\n",
    "    src1[-1] = tail_end[0]\n",
    "len(src1)"
   ]
  },
  {
   "cell_type": "code",
   "execution_count": null,
   "metadata": {},
   "outputs": [],
   "source": [
    "# Create a list for each desired feature of each house\n",
    "prices = []\n",
    "addresses = []\n",
    "property_types = []\n",
    "square_footages = []\n",
    "prices_per_sqft = []\n",
    "n_beds = []\n",
    "n_baths = []\n",
    "cities = []\n",
    "zip_codes = []\n",
    "times_on_redfin = []\n",
    "walk_scores = []\n",
    "\n",
    "def add_value(feature, feature_list):\n",
    "    if feature:\n",
    "        feature_list.append(feature.group(1))\n",
    "    else:\n",
    "        feature_list.append(np.nan)\n",
    "\n",
    "for house_data in src1[1:]:\n",
    "    price = re.search(r'\\\\\\\"price\\\\\\\":{\\\\\\\"value\\\\\\\":(\\d*)', house_data)\n",
    "    add_value(price, prices)\n",
    "    #prices = np.array(prices).astype(int)\n",
    "\n",
    "    address = re.search(r'\\\\\\\"streetLine\\\\\\\":{\\\\\\\"value\\\\\\\":\\\\\\\"(.*?)\\\\\\\",', house_data)\n",
    "    add_value(address, addresses)\n",
    "    #addresses = np.array(addresses).astype(str)\n",
    "\n",
    "    property_type = re.search(r'\\\\\\\"propertyType\\\\\\\":(\\d*)', house_data) # Use dict to convert to sensible categories\n",
    "    add_value(property_type, property_types)\n",
    "    #property_types = np.array(property_types).astype(int)\n",
    "\n",
    "    square_footage = re.search(r'\\\\\\\"sqFt\\\\\\\":{\\\\\\\"value\\\\\\\":(\\d+),', house_data)\n",
    "    add_value(square_footage, square_footages)\n",
    "    #square_footage = np.array(square_footage).astype(int)\n",
    "\n",
    "    price_per_sqft = re.search(r'\\\\\\\"pricePerSqFt\\\\\\\":{\\\\\\\"value\\\\\\\":(\\d*?),', house_data)\n",
    "    add_value(price_per_sqft, prices_per_sqft)\n",
    "    #price_per_sqft = np.array(price_per_sqft).astype(int)\n",
    "\n",
    "    n_bed = re.search(r'\\\\\\\"beds\\\\\\\":(\\d*?),', house_data)\n",
    "    add_value(n_bed, n_beds)\n",
    "    #n_beds = np.array(n_beds).astype(int)\n",
    "\n",
    "    n_bath = re.search(r'\\\\\\\"baths\\\\\\\":(\\d+.\\d*),', house_data)\n",
    "    add_value(n_bath, n_baths)\n",
    "    #n_baths = np.array(n_baths).astype(int)\n",
    "\n",
    "    city = re.search(r'\\\\\\\"city\\\\\\\":\\\\\\\"(\\D*?)\\\\\\\"', house_data)\n",
    "    add_value(city, cities)\n",
    "    #city = np.array(city).astype(str)\n",
    "\n",
    "    zip_code = re.search(r'\\\\\\\"zip\\\\\\\":\\\\\\\"(\\w\\w\\w \\w\\w\\w)\\\\\\\"', house_data)\n",
    "    add_value(zip_code, zip_codes)\n",
    "    #zip_code = np.array(zip_code).astype(str)\n",
    "\n",
    "    time_on_redfin = re.search(r'\\\\\\\"timeOnRedfin\\\\\\\":{\\\\\\\"value\\\\\\\":(\\d+)', house_data)\n",
    "    add_value(time_on_redfin, times_on_redfin)\n",
    "\n",
    "    # walk scores not listed in source text???"
   ]
  },
  {
   "cell_type": "code",
   "execution_count": null,
   "metadata": {},
   "outputs": [],
   "source": [
    "# For troubleshooting. Ensure that all feature lists have equal length\n",
    "print(f'Num prices: {len(prices)}')\n",
    "print(f'Num addresses: {len(addresses)}')\n",
    "print(f'Num property types: {len(property_types)}')\n",
    "print(f'Num sq footage: {len(square_footages)}')\n",
    "print(f'Num price per sqft: {len(prices_per_sqft)}')\n",
    "print(f'Num n_beds: {len(n_beds)}')\n",
    "print(f'Num n_baths: {len(n_baths)}')\n",
    "print(f'Num city: {len(cities)}')\n",
    "print(f'Num zip code: {len(zip_codes)}')\n",
    "print(f'Num uptime: {len(zip_codes)}')"
   ]
  },
  {
   "cell_type": "code",
   "execution_count": null,
   "metadata": {},
   "outputs": [],
   "source": [
    "# Create dataframe and take care of dtypes\n",
    "df = pd.DataFrame({'address': addresses,\n",
    "                    'unit_type': property_types,\n",
    "                    'price': prices,\n",
    "                    'sqft': square_footages,\n",
    "                    'price_per_sqft': prices_per_sqft,\n",
    "                    'n_beds': n_beds,\n",
    "                    'n_baths': n_baths,\n",
    "                    'city': cities,\n",
    "                    'postal_code': zip_codes,\n",
    "                    'days_on_redfin': times_on_redfin})\n",
    "\n",
    "df.unit_type = pd.to_numeric(df.unit_type)\n",
    "df.price = pd.to_numeric(df.price)\n",
    "df.sqft = pd.to_numeric(df.sqft)\n",
    "df.price_per_sqft = pd.to_numeric(df.price_per_sqft)\n",
    "df.n_beds = pd.to_numeric(df.n_beds)\n",
    "df.n_baths = pd.to_numeric(df.n_baths)\n",
    "df.days_on_redfin = pd.to_numeric(df.days_on_redfin)\n",
    "\n",
    "df.days_on_redfin = df.days_on_redfin / 1000 / 3600 / 24"
   ]
  },
  {
   "cell_type": "code",
   "execution_count": null,
   "metadata": {},
   "outputs": [],
   "source": [
    "# Change the unit types from the default to human understandable language\n",
    "unit_types = {3: 'Apartment', 4: 'Townhouse', 5: 'Townhouse', 6: 'Detached Single Family', 8: 'Vacant Land', 13: 'Condo Townhouse'}\n",
    "df.unit_type = df.unit_type.replace(unit_types)\n",
    "df.unit_type.unique()"
   ]
  },
  {
   "cell_type": "code",
   "execution_count": null,
   "metadata": {},
   "outputs": [],
   "source": [
    "# Numerical summary\n",
    "df.describe() # Price of 5e05 is 500k"
   ]
  },
  {
   "cell_type": "code",
   "execution_count": null,
   "metadata": {},
   "outputs": [],
   "source": [
    "# Categorical summary\n",
    "df.describe(include='object')"
   ]
  },
  {
   "cell_type": "code",
   "execution_count": null,
   "metadata": {},
   "outputs": [],
   "source": [
    "# Apply filters here to narrow down search\n",
    "df[(df.city == 'Kitchener') & (df.unit_type == 'Detached Single Family')].sort_values('price')"
   ]
  }
 ],
 "metadata": {
  "kernelspec": {
   "display_name": "Python 3 (ipykernel)",
   "language": "python",
   "name": "python3"
  },
  "language_info": {
   "codemirror_mode": {
    "name": "ipython",
    "version": 3
   },
   "file_extension": ".py",
   "mimetype": "text/x-python",
   "name": "python",
   "nbconvert_exporter": "python",
   "pygments_lexer": "ipython3",
   "version": "3.10.2"
  },
  "vscode": {
   "interpreter": {
    "hash": "b358da128858fdad755e3996a6b0f5555dd19ab1b1d8e1abc489599f251017e7"
   }
  }
 },
 "nbformat": 4,
 "nbformat_minor": 2
}
